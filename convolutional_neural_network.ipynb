{
 "cells": [
  {
   "cell_type": "code",
   "execution_count": 1,
   "metadata": {},
   "outputs": [],
   "source": [
    "#Importing Libraries\n",
    "import torch\n",
    "import matplotlib.pyplot as plt\n",
    "import numpy as np\n",
    "import torch.nn.functional as F\n",
    "import PIL.ImageOps\n",
    "import requests\n",
    "from torch import nn\n",
    "from torchvision import datasets, transforms\n",
    "from PIL import Image"
   ]
  },
  {
   "cell_type": "code",
   "execution_count": 2,
   "metadata": {},
   "outputs": [],
   "source": [
    "# Hyper Parameter settings\n",
    "device = torch.device(\"cuda:0\" if torch.cuda.is_available() else \"cpu\")\n",
    "batch_size = 100\n",
    "learning_rate = 0.0001\n",
    "epochs = 18"
   ]
  },
  {
   "cell_type": "code",
   "execution_count": 3,
   "metadata": {},
   "outputs": [],
   "source": [
    "#Downloading, Loading and Normalising dataset\n",
    "# This is the two-step process used to prepare the\n",
    "# data for use with the convolutional neural network.\n",
    "# First step is to convert Python Image Library (PIL) format\n",
    "# to PyTorch tensors.\n",
    "# Second step is used to normalize the data by specifying a \n",
    "# mean and standard deviation for each of the three channels.\n",
    "# This will convert the data from [0,1] to [-1,1]\n",
    "# Normalization of data should help speed up conversion and\n",
    "# reduce the chance of vanishing gradients with certain \n",
    "# activation functions.\n",
    "# convert data to a normalized torch.FloatTensor\n",
    "\n",
    "transform = transforms.Compose([transforms.Resize((28,28)),\n",
    "                               transforms.ToTensor(),\n",
    "                               transforms.Normalize((0.5, 0.5, 0.5), (0.5, 0.5, 0.5))\n",
    "                               ])\n",
    "\n",
    "# choose the training and test datasets\n",
    "\n",
    "train_dataset = datasets.MNIST(root='./data/mnist', train=True, download=True, transform=transform)\n",
    "val_dataset = datasets.MNIST(root='./data/mnist', train=False, download=True, transform=transform)\n",
    "\n",
    "# prepare data loaders (combine dataset and sampler)\n",
    "\n",
    "train_loader = torch.utils.data.DataLoader(train_dataset, batch_size = batch_size, shuffle=True)\n",
    "val_loader = torch.utils.data.DataLoader(val_dataset, batch_size = batch_size, shuffle=False)\n"
   ]
  },
  {
   "cell_type": "code",
   "execution_count": 4,
   "metadata": {},
   "outputs": [],
   "source": [
    "class_names = ('0', '1', '2', '3', '4', '5', '6', '7', '8', '9')"
   ]
  },
  {
   "cell_type": "code",
   "execution_count": 5,
   "metadata": {},
   "outputs": [],
   "source": [
    "# helper function to display an image\n",
    "def image_convert(tensor):\n",
    "  image = tensor.cpu().clone().detach().numpy()\n",
    "  image = image.transpose(1, 2, 0)\n",
    "  image = image * np.array((0.5, 0.5, 0.5)) + np.array((0.5, 0.5, 0.5))\n",
    "  image = image.clip(0, 1)\n",
    "  return image"
   ]
  },
  {
   "cell_type": "code",
   "execution_count": 6,
   "metadata": {},
   "outputs": [
    {
     "data": {
      "image/png": "[encoded data removed]",
      "text/plain": [
       "<Figure size 1080x504 with 15 Axes>"
      ]
     },
     "metadata": {},
     "output_type": "display_data"
    }
   ],
   "source": [
    "# obtain one batch of training images\n",
    "dataiter = iter(train_loader)\n",
    "images, labels = dataiter.next()\n",
    "fig = plt.figure(figsize=(15, 7))\n",
    "\n",
    "for idx in np.arange(15):\n",
    "  ax = fig.add_subplot(3, 5, idx+1, xticks=[], yticks=[])\n",
    "  plt.imshow(image_convert(images[idx]))\n",
    "  ax.set_title([labels[idx].item()])\n"
   ]
  },
  {
   "cell_type": "code",
   "execution_count": 7,
   "metadata": {},
   "outputs": [],
   "source": [
    "# Defining the Convolutional Neural Network\n",
    "\n",
    "class LeNet(nn.Module):\n",
    "    def __init__(self):\n",
    "      super().__init__()\n",
    "      self.conv1 = nn.Conv2d(1, 20, 5, 1)\n",
    "      self.conv2 = nn.Conv2d(20, 50, 5, 1)\n",
    "      self.fc1 = nn.Linear(4*4*50, 500)\n",
    "      self.dropout1 = nn.Dropout(0.5)\n",
    "      self.fc2 = nn.Linear(500, 10)\n",
    "    def forward(self, x):\n",
    "      x = F.relu(self.conv1(x))\n",
    "      x = F.max_pool2d(x, 2, 2)\n",
    "      x = F.relu(self.conv2(x))\n",
    "      x = F.max_pool2d(x, 2, 2)\n",
    "      x = x.view(-1, 4*4*50)\n",
    "      x = F.relu(self.fc1(x))\n",
    "      x = self.dropout1(x)\n",
    "      x = self.fc2(x)\n",
    "      return x"
   ]
  },
  {
   "cell_type": "code",
   "execution_count": 8,
   "metadata": {},
   "outputs": [
    {
     "data": {
      "text/plain": [
       "LeNet(\n",
       "  (conv1): Conv2d(1, 20, kernel_size=(5, 5), stride=(1, 1))\n",
       "  (conv2): Conv2d(20, 50, kernel_size=(5, 5), stride=(1, 1))\n",
       "  (fc1): Linear(in_features=800, out_features=500, bias=True)\n",
       "  (dropout1): Dropout(p=0.5)\n",
       "  (fc2): Linear(in_features=500, out_features=10, bias=True)\n",
       ")"
      ]
     },
     "execution_count": 8,
     "metadata": {},
     "output_type": "execute_result"
    }
   ],
   "source": [
    "model = LeNet().to(device)\n",
    "model"
   ]
  },
  {
   "cell_type": "code",
   "execution_count": 9,
   "metadata": {},
   "outputs": [],
   "source": [
    "#Defining the Loss Function and Optimizer\n",
    "criterion = nn.CrossEntropyLoss()\n",
    "optimizer = torch.optim.Adam(model.parameters(), lr = learning_rate)"
   ]
  },
  {
   "cell_type": "code",
   "execution_count": 10,
   "metadata": {},
   "outputs": [
    {
     "name": "stdout",
     "output_type": "stream",
     "text": [
      "epoch : 1\n",
      "training loss: 0.5900, acc 83.9917 \n",
      "validation loss: 0.1832, validation acc 94.6800 \n",
      "epoch : 2\n",
      "training loss: 0.1495, acc 95.5450 \n",
      "validation loss: 0.1048, validation acc 96.9700 \n",
      "epoch : 3\n",
      "training loss: 0.1008, acc 97.0183 \n",
      "validation loss: 0.0805, validation acc 97.5100 \n",
      "epoch : 4\n",
      "training loss: 0.0774, acc 97.6800 \n",
      "validation loss: 0.0635, validation acc 98.1200 \n",
      "epoch : 5\n",
      "training loss: 0.0644, acc 98.0417 \n",
      "validation loss: 0.0542, validation acc 98.2800 \n",
      "epoch : 6\n",
      "training loss: 0.0556, acc 98.3850 \n",
      "validation loss: 0.0477, validation acc 98.4900 \n",
      "epoch : 7\n",
      "training loss: 0.0492, acc 98.4933 \n",
      "validation loss: 0.0457, validation acc 98.4700 \n",
      "epoch : 8\n",
      "training loss: 0.0443, acc 98.6450 \n",
      "validation loss: 0.0370, validation acc 98.7900 \n",
      "epoch : 9\n",
      "training loss: 0.0397, acc 98.7900 \n",
      "validation loss: 0.0368, validation acc 98.7800 \n",
      "epoch : 10\n",
      "training loss: 0.0362, acc 98.8983 \n",
      "validation loss: 0.0360, validation acc 98.8600 \n",
      "epoch : 11\n",
      "training loss: 0.0335, acc 98.9883 \n",
      "validation loss: 0.0341, validation acc 98.8800 \n",
      "epoch : 12\n",
      "training loss: 0.0309, acc 99.0483 \n",
      "validation loss: 0.0312, validation acc 98.9700 \n",
      "epoch : 13\n",
      "training loss: 0.0291, acc 99.0833 \n",
      "validation loss: 0.0326, validation acc 98.9100 \n",
      "epoch : 14\n",
      "training loss: 0.0261, acc 99.1800 \n",
      "validation loss: 0.0265, validation acc 99.1900 \n",
      "epoch : 15\n",
      "training loss: 0.0237, acc 99.2883 \n",
      "validation loss: 0.0305, validation acc 98.9400 \n",
      "epoch : 16\n",
      "training loss: 0.0235, acc 99.2450 \n",
      "validation loss: 0.0301, validation acc 98.9700 \n",
      "epoch : 17\n",
      "training loss: 0.0215, acc 99.2983 \n",
      "validation loss: 0.0278, validation acc 99.0900 \n",
      "epoch : 18\n",
      "training loss: 0.0204, acc 99.3817 \n",
      "validation loss: 0.0264, validation acc 99.1800 \n"
     ]
    }
   ],
   "source": [
    "#Training the Network\n",
    "training_loss_history = []\n",
    "training_corrects_history = []\n",
    "val_loss_history = []\n",
    "val_corrects_history = []\n",
    "for e in range(epochs):\n",
    "  \n",
    "  running_loss = 0.0\n",
    "  running_corrects = 0.0\n",
    "  val_running_loss = 0.0\n",
    "  val_running_corrects = 0.0\n",
    "\n",
    "  # train the model #\n",
    "\n",
    "  for inputs, labels in train_loader:\n",
    "    inputs = inputs.to(device)\n",
    "    labels = labels.to(device)\n",
    "    outputs = model(inputs)\n",
    "    loss = criterion(outputs, labels)\n",
    "    \n",
    "    optimizer.zero_grad()\n",
    "    loss.backward()\n",
    "    optimizer.step()\n",
    "    \n",
    "    _, preds = torch.max(outputs, 1)\n",
    "    running_loss += loss.item()\n",
    "    running_corrects += torch.sum(preds == labels.data)\n",
    "  \n",
    "  # validate the model \n",
    "\n",
    "  else:\n",
    "    with torch.no_grad():\n",
    "      for val_inputs, val_labels in val_loader:\n",
    "        val_inputs = val_inputs.to(device)\n",
    "        val_labels = val_labels.to(device)\n",
    "        val_outputs = model(val_inputs)\n",
    "        val_loss = criterion(val_outputs, val_labels)\n",
    "        \n",
    "        _, val_preds = torch.max(val_outputs, 1)\n",
    "        val_running_loss += val_loss.item()\n",
    "        val_running_corrects += torch.sum(val_preds == val_labels.data)\n",
    "      \n",
    "    epoch_loss = running_loss/len(train_loader)#if batch size is 100\n",
    "    #epoch_loss = running_loss/len(training_loader.dataset) #if batch size is not 100\n",
    "\n",
    "    epoch_acc = running_corrects.float()/ len(train_loader) #if batch size is 100\n",
    "    #epoch_acc = running_corrects.float()/ len(training_loader.dataset)  #if batch size is not 100\n",
    "\n",
    "    training_loss_history.append(epoch_loss)\n",
    "    training_corrects_history.append(epoch_acc)\n",
    "    \n",
    "    val_epoch_loss = val_running_loss/len(val_loader) #if batch size is 100\n",
    "    val_epoch_acc = val_running_corrects.float()/ len(val_loader) #if batch size is 100\n",
    "    #val_epoch_loss = val_running_loss/len(validation_loader.dataset) #if batch size is not 100\n",
    "    #val_epoch_acc = val_running_corrects.float()/ len(validation_loader.dataset) #if batch size is not 100 \n",
    "    val_loss_history.append(val_epoch_loss)\n",
    "    val_corrects_history.append(val_epoch_acc)\n",
    "    print('epoch :', (e+1))\n",
    "    print('training loss: {:.4f}, acc {:.4f} '.format(epoch_loss, epoch_acc.item()))\n",
    "    print('validation loss: {:.4f}, validation acc {:.4f} '.format(val_epoch_loss, val_epoch_acc.item()))\n"
   ]
  },
  {
   "cell_type": "code",
   "execution_count": 11,
   "metadata": {},
   "outputs": [
    {
     "data": {
      "text/plain": [
       "<matplotlib.legend.Legend at 0x7fc23ee237f0>"
      ]
     },
     "execution_count": 11,
     "metadata": {},
     "output_type": "execute_result"
    },
    {
     "data": {
      "image/png": "[encoded data removed]",
      "text/plain": [
       "<Figure size 432x288 with 1 Axes>"
      ]
     },
     "metadata": {
      "needs_background": "light"
     },
     "output_type": "display_data"
    }
   ],
   "source": [
    "#plot the training and validation loss\n",
    "plt.plot(training_loss_history, label='training loss')\n",
    "plt.plot(val_loss_history, label='validation loss')\n",
    "plt.suptitle('Training loss vs Test loss', fontsize=16)\n",
    "plt.xlabel('epoch', fontsize=12)\n",
    "plt.ylabel('loss', fontsize=12)\n",
    "plt.legend()\n"
   ]
  },
  {
   "cell_type": "code",
   "execution_count": 12,
   "metadata": {},
   "outputs": [
    {
     "data": {
      "text/plain": [
       "<matplotlib.legend.Legend at 0x7fc290091c50>"
      ]
     },
     "execution_count": 12,
     "metadata": {},
     "output_type": "execute_result"
    },
    {
     "data": {
      "image/png": "[encoded data removed]",
      "text/plain": [
       "<Figure size 432x288 with 1 Axes>"
      ]
     },
     "metadata": {
      "needs_background": "light"
     },
     "output_type": "display_data"
    }
   ],
   "source": [
    "#plot the training and validation accuracy\n",
    "\n",
    "plt.plot(training_corrects_history, label='training accuracy')\n",
    "plt.plot(val_corrects_history, label='validation accuracy')\n",
    "plt.suptitle('Training Accuracy vs validation Accuracy', fontsize=16)\n",
    "plt.xlabel('epoch', fontsize=12)\n",
    "plt.ylabel('accuracy', fontsize=12)\n",
    "plt.legend()"
   ]
  },
  {
   "cell_type": "code",
   "execution_count": 13,
   "metadata": {},
   "outputs": [
    {
     "name": "stdout",
     "output_type": "stream",
     "text": [
      "Model accuracy on 10000 test images: 99.14%\n"
     ]
    }
   ],
   "source": [
    "\n",
    "#Predicting the Category for all Test Images\n",
    "# Confusion_matrix\n",
    "\n",
    "total_correct = 0\n",
    "total_images = 0\n",
    "confusion_matrix = np.zeros([10,10], int)\n",
    "with torch.no_grad():\n",
    "    for data in val_loader:\n",
    "        images, labels = data\n",
    "        images = images.to(device)\n",
    "        labels = labels.to(device)\n",
    "        outputs = model(images)\n",
    "        _, predicted = torch.max(outputs.data, 1)\n",
    "        total_images += labels.size(0)\n",
    "        total_correct += (predicted == labels).sum().item()\n",
    "        for i, l in enumerate(labels):\n",
    "            confusion_matrix[l.item(), predicted[i].item()] += 1 \n",
    "\n",
    "model_accuracy = total_correct / total_images * 100\n",
    "print('Model accuracy on {0} test images: {1:.2f}%'.format(total_images, model_accuracy))"
   ]
  },
  {
   "cell_type": "code",
   "execution_count": 14,
   "metadata": {},
   "outputs": [
    {
     "name": "stdout",
     "output_type": "stream",
     "text": [
      "Category   : Accuracy\n",
      "0          : 99.6\n",
      "1          : 99.8\n",
      "2          : 99.2\n",
      "3          : 99.1\n",
      "4          : 99.2\n",
      "5          : 99.2\n",
      "6          : 98.4\n",
      "7          : 98.8\n",
      "8          : 99.1\n",
      "9          : 98.8\n"
     ]
    }
   ],
   "source": [
    "#class_wise accuracy\n",
    "\n",
    "print('{0:10s} : {1}'.format('Category','Accuracy'))\n",
    "for i, r in enumerate(confusion_matrix):\n",
    "    print('{0:10s} : {1:.1f}'.format(class_names[i], r[i]/np.sum(r)*100))"
   ]
  },
  {
   "cell_type": "code",
   "execution_count": 15,
   "metadata": {},
   "outputs": [
    {
     "data": {
      "image/png": "[encoded data removed]",
      "text/plain": [
       "<Figure size 576x432 with 1 Axes>"
      ]
     },
     "metadata": {
      "needs_background": "light"
     },
     "output_type": "display_data"
    }
   ],
   "source": [
    "#plot confusion matrix\n",
    "\n",
    "fig, ax = plt.subplots(1,1,figsize=(8,6))\n",
    "ax.matshow(confusion_matrix, aspect='auto', vmin=0, vmax=1000, cmap=plt.get_cmap('Blues'))\n",
    "plt.ylabel('Actual Category')\n",
    "plt.yticks(range(10), class_names)\n",
    "plt.xlabel('Predicted Category')\n",
    "plt.xticks(range(10), class_names)\n",
    "plt.show()"
   ]
  },
  {
   "cell_type": "code",
   "execution_count": 16,
   "metadata": {},
   "outputs": [
    {
     "name": "stdout",
     "output_type": "stream",
     "text": [
      "actual/pred     0         1         2         3         4         5         6         7         8         9         \n",
      "0               976       0         0         0         0         0         1         1         1         1         \n",
      "1               0         1133      0         0         0         0         1         0         0         1         \n",
      "2               1         0         1024      0         0         0         0         3         4         0         \n",
      "3               0         0         0         1001      0         3         0         3         3         0         \n",
      "4               0         0         0         0         974       0         0         0         2         6         \n",
      "5               1         0         0         3         0         885       1         1         1         0         \n",
      "6               4         2         0         0         3         4         943       0         2         0         \n",
      "7               0         3         5         1         0         0         0         1016      1         2         \n",
      "8               3         0         3         0         0         1         0         0         965       2         \n",
      "9               1         0         0         0         2         5         0         2         2         997       \n"
     ]
    }
   ],
   "source": [
    "print('actual/pred'.ljust(16), end='')\n",
    "for i,c in enumerate(class_names):\n",
    "    print(c.ljust(10), end='')\n",
    "print()\n",
    "for i,r in enumerate(confusion_matrix):\n",
    "    print(class_names[i].ljust(16), end='')\n",
    "    for idx, p in enumerate(r):\n",
    "        print(str(p).ljust(10), end='')\n",
    "    print()\n"
   ]
  },
  {
   "cell_type": "code",
   "execution_count": 17,
   "metadata": {},
   "outputs": [
    {
     "name": "stdout",
     "output_type": "stream",
     "text": [
      "actual/pred     0         1         2         3         4         5         6         7         8         9         \n",
      "0                               0.99591836734693870.0       0.0       0.0       0.0       0.0       0.00102040816326530620.00102040816326530620.00102040816326530620.0010204081632653062\n",
      "1                               0.0       0.99823788546255510.0       0.0       0.0       0.0       0.0008810572687224670.0       0.0       0.000881057268722467\n",
      "2                               0.00096899224806201550.0       0.99224806201550390.0       0.0       0.0       0.0       0.00290697674418604650.0038759689922480620.0       \n",
      "3                               0.0       0.0       0.0       0.99108910891089110.0       0.00297029702970297030.0       0.00297029702970297030.00297029702970297030.0       \n",
      "4                               0.0       0.0       0.0       0.0       0.99185336048879840.0       0.0       0.0       0.0020366598778004070.006109979633401222\n",
      "5                               0.00112107623318385650.0       0.0       0.00336322869955156970.0       0.9921524663677130.00112107623318385650.00112107623318385650.00112107623318385650.0       \n",
      "6                               0.00417536534446764050.00208768267223382030.0       0.0       0.0031315240083507310.00417536534446764050.98434237995824640.0       0.00208768267223382030.0       \n",
      "7                               0.0       0.00291828793774319070.00486381322957198450.00097276264591439690.0       0.0       0.0       0.98832684824902730.00097276264591439690.0019455252918287938\n",
      "8                               0.0030800821355236140.0       0.0030800821355236140.0       0.0       0.0010266940451745380.0       0.0       0.99075975359342920.002053388090349076\n",
      "9                               0.00099108027750247770.0       0.0       0.0       0.00198216055500495540.0049554013875123880.0       0.00198216055500495540.00198216055500495540.9881070366699702\n"
     ]
    }
   ],
   "source": [
    "print('actual/pred'.ljust(16), end='')\n",
    "for i,c in enumerate(class_names):\n",
    "    print(c.ljust(10), end='')\n",
    "print()\n",
    "for i,r in enumerate(confusion_matrix):\n",
    "    print(class_names[i].ljust(16), end='')\n",
    "    r = r/np.sum(r)\n",
    "    print(''.ljust(16), end='')\n",
    "    for idx, p in enumerate(r):\n",
    "        print(str(p).ljust(10), end='')\n",
    "    print()"
   ]
  },
  {
   "cell_type": "code",
   "execution_count": 18,
   "metadata": {},
   "outputs": [
    {
     "data": {
      "image/png": "[encoded data removed]",
      "text/plain": [
       "<Figure size 1080x504 with 15 Axes>"
      ]
     },
     "metadata": {},
     "output_type": "display_data"
    }
   ],
   "source": [
    "# plot the images in the batch, along with predicted and true labels\n",
    "dataiter = iter(val_loader)\n",
    "images, labels = dataiter.next()\n",
    "images = images.to(device)\n",
    "labels = labels.to(device)\n",
    "output = model(images)\n",
    "_, preds = torch.max(output, 1)\n",
    "\n",
    "fig = plt.figure(figsize=(15, 7))\n",
    "\n",
    "for idx in np.arange(15):\n",
    "  ax = fig.add_subplot(3, 5, idx+1, xticks=[], yticks=[])\n",
    "  plt.imshow(image_convert(images[idx]))\n",
    "  ax.set_title(\"{} ({})\".format(str(preds[idx].item()), str(labels[idx].item())), color=(\"green\" if preds[idx]==labels[idx] else \"red\"))"
   ]
  },
  {
   "cell_type": "code",
   "execution_count": 19,
   "metadata": {},
   "outputs": [
    {
     "data": {
      "text/plain": [
       "<matplotlib.image.AxesImage at 0x7fc296cfc0f0>"
      ]
     },
     "execution_count": 19,
     "metadata": {},
     "output_type": "execute_result"
    },
    {
     "data": {
      "image/png": "[encoded data removed]",
      "text/plain": [
       "<Figure size 432x288 with 1 Axes>"
      ]
     },
     "metadata": {
      "needs_background": "light"
     },
     "output_type": "display_data"
    }
   ],
   "source": [
    "#test image from internet with the model \n",
    "\n",
    "url = 'https://vignette.wikia.nocookie.net/phobia/images/d/d0/4.jpg'\n",
    "response = requests.get(url, stream = True)\n",
    "img = Image.open(response.raw)\n",
    "plt.imshow(img)"
   ]
  },
  {
   "cell_type": "code",
   "execution_count": 20,
   "metadata": {},
   "outputs": [
    {
     "data": {
      "text/plain": [
       "<matplotlib.image.AxesImage at 0x7fc296cb25c0>"
      ]
     },
     "execution_count": 20,
     "metadata": {},
     "output_type": "execute_result"
    },
    {
     "data": {
      "image/png": "[encoded data removed]",
      "text/plain": [
       "<Figure size 432x288 with 1 Axes>"
      ]
     },
     "metadata": {
      "needs_background": "light"
     },
     "output_type": "display_data"
    }
   ],
   "source": [
    "img = PIL.ImageOps.invert(img)\n",
    "img = img.convert('1')\n",
    "img = transform(img) \n",
    "plt.imshow(image_convert(img))"
   ]
  },
  {
   "cell_type": "code",
   "execution_count": 21,
   "metadata": {},
   "outputs": [
    {
     "name": "stdout",
     "output_type": "stream",
     "text": [
      "4\n"
     ]
    }
   ],
   "source": [
    "images = img.to(device)\n",
    "image = images[0].unsqueeze(0).unsqueeze(0)\n",
    "output = model(image)\n",
    "_, pred = torch.max(output, 1)\n",
    "print(pred.item())"
   ]
  }
 ],
 "metadata": {
  "kernelspec": {
   "display_name": "pytorch_new_python3",
   "language": "python",
   "name": "pytorch_new_python3"
  },
  "language_info": {
   "codemirror_mode": {
    "name": "ipython",
    "version": 3
   },
   "file_extension": ".py",
   "mimetype": "text/x-python",
   "name": "python",
   "nbconvert_exporter": "python",
   "pygments_lexer": "ipython3",
   "version": "3.5.2"
  }
 },
 "nbformat": 4,
 "nbformat_minor": 2
}
